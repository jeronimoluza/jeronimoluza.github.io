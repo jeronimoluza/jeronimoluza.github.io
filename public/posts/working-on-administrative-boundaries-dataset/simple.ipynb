{
 "cells": [
  {
   "cell_type": "markdown",
   "id": "d7b5cc55",
   "metadata": {},
   "source": [
    "This notebook is to explore the `hdx-python-api` library capabilities to download the United Nations Office for the Coordination of Humanitarian Affairs (OCHA) national and subnational administrative boundaries from [https://data.humdata.org/](https://data.humdata.org/)"
   ]
  },
  {
   "cell_type": "markdown",
   "id": "6157c6c8",
   "metadata": {},
   "source": [
    "Find the documentation for the library at [HDX Python API](https://hdx-python-api.readthedocs.io/en/latest/)"
   ]
  },
  {
   "cell_type": "code",
   "execution_count": 1,
   "id": "d5120a63",
   "metadata": {},
   "outputs": [],
   "source": [
    "import pandas as pd"
   ]
  },
  {
   "cell_type": "code",
   "execution_count": 2,
   "id": "69b9f4c4",
   "metadata": {},
   "outputs": [],
   "source": [
    "from pprint import pprint"
   ]
  },
  {
   "cell_type": "markdown",
   "id": "b4085cc5",
   "metadata": {},
   "source": [
    "According to the documentation, we first need to create a configuration object."
   ]
  },
  {
   "cell_type": "code",
   "execution_count": 3,
   "id": "306c9b49",
   "metadata": {},
   "outputs": [
    {
     "name": "stderr",
     "output_type": "stream",
     "text": [
      "/opt/homebrew/anaconda3/envs/ocha_tests/lib/python3.12/site-packages/quantulum3/classifier.py:28: UserWarning: Classifier dependencies not installed. Run pip install quantulum3[classifier] to install them. The classifer helps to dissambiguate units.\n",
      "  warnings.warn(\n"
     ]
    },
    {
     "data": {
      "text/plain": [
       "'https://data.humdata.org'"
      ]
     },
     "execution_count": 3,
     "metadata": {},
     "output_type": "execute_result"
    }
   ],
   "source": [
    "from hdx.api.configuration import Configuration\n",
    "from hdx.data.dataset import Dataset\n",
    "from hdx.utilities.easy_logging import setup_logging\n",
    "\n",
    "Configuration.create(hdx_site=\"prod\", user_agent=\"MyOrg_MyProject\", hdx_read_only=True)"
   ]
  },
  {
   "cell_type": "markdown",
   "id": "5b781996",
   "metadata": {},
   "source": [
    "We're interested in searching for the subnational boundaries, a product from the Common Operational Databases (COD) initiative."
   ]
  },
  {
   "cell_type": "code",
   "execution_count": 4,
   "id": "5d417cfb",
   "metadata": {},
   "outputs": [],
   "source": [
    "datasets = Dataset.search_in_hdx(\"subnational boundaries\")"
   ]
  },
  {
   "cell_type": "markdown",
   "id": "f2bc3b4e",
   "metadata": {},
   "source": [
    "COD administrative boundaries datasets names start with `cod-ab`."
   ]
  },
  {
   "cell_type": "code",
   "execution_count": 5,
   "id": "d87b86f9",
   "metadata": {},
   "outputs": [],
   "source": [
    "ochas = [\n",
    "    dataset for dataset in datasets if (dataset['name'].startswith('cod-ab'))\n",
    "]\n",
    "\n",
    "ocha_names = sorted([ocha['name'] for ocha in ochas])"
   ]
  },
  {
   "cell_type": "raw",
   "id": "5fc13dab",
   "metadata": {},
   "source": [
    "ocha_names"
   ]
  },
  {
   "cell_type": "code",
   "execution_count": 6,
   "id": "33670010",
   "metadata": {},
   "outputs": [
    {
     "name": "stdout",
     "output_type": "stream",
     "text": [
      "Total OCHA Administrative Boundaries: 165\n"
     ]
    }
   ],
   "source": [
    "print('Total OCHA Administrative Boundaries:', len(ochas))"
   ]
  },
  {
   "cell_type": "markdown",
   "id": "a051d5fd",
   "metadata": {},
   "source": [
    "We'll create a dataframe with the information of the products, including the API's `Dataset` objects. Datasets can include many `Resources`, so we need to find which ones correspond to the administrative boundaries.\n",
    "\n",
    "See the documentation for [Dataset](https://hdx-python-api.readthedocs.io/en/latest/api-documentation/dataset/) and [Resource](https://hdx-python-api.readthedocs.io/en/latest/api-documentation/resource/)"
   ]
  },
  {
   "cell_type": "code",
   "execution_count": 7,
   "id": "df7d7a58",
   "metadata": {},
   "outputs": [],
   "source": [
    "n_ocha_resources = []\n",
    "for ocha in ochas: # Loop through dataset objects\n",
    "    ocha_name = ocha['name']\n",
    "    resources = ocha.get_resources()\n",
    "    for r in resources:\n",
    "        resource_name = r['name']\n",
    "        description = r['description']\n",
    "        format_type = r['format']\n",
    "        url = r['url']\n",
    "        n_ocha_resources.append((ocha_name, resource_name, r, description, format_type, url))\n",
    "\n",
    "resources_df = pd.DataFrame(\n",
    "    n_ocha_resources,\n",
    "    columns = [\n",
    "        'ocha_name','resource_name', 'resource_obj', 'description', 'format', 'url'\n",
    "    ]\n",
    ").sort_values('ocha_name')"
   ]
  },
  {
   "cell_type": "code",
   "execution_count": 8,
   "id": "6f2e36a7",
   "metadata": {},
   "outputs": [
    {
     "data": {
      "text/html": [
       "<div>\n",
       "<style scoped>\n",
       "    .dataframe tbody tr th:only-of-type {\n",
       "        vertical-align: middle;\n",
       "    }\n",
       "\n",
       "    .dataframe tbody tr th {\n",
       "        vertical-align: top;\n",
       "    }\n",
       "\n",
       "    .dataframe thead th {\n",
       "        text-align: right;\n",
       "    }\n",
       "</style>\n",
       "<table border=\"1\" class=\"dataframe\">\n",
       "  <thead>\n",
       "    <tr style=\"text-align: right;\">\n",
       "      <th></th>\n",
       "      <th>ocha_name</th>\n",
       "      <th>resource_name</th>\n",
       "      <th>resource_obj</th>\n",
       "      <th>description</th>\n",
       "      <th>format</th>\n",
       "      <th>url</th>\n",
       "    </tr>\n",
       "  </thead>\n",
       "  <tbody>\n",
       "    <tr>\n",
       "      <th>548</th>\n",
       "      <td>cod-ab-abw</td>\n",
       "      <td>abw_admbnda_adm0_2020.emf</td>\n",
       "      <td>[alt_url, cache_last_updated, cache_url, creat...</td>\n",
       "      <td>Aruba administrative level 0 boundary EMF file</td>\n",
       "      <td>EMF</td>\n",
       "      <td>https://data.humdata.org/dataset/5abb5b0c-f3e1...</td>\n",
       "    </tr>\n",
       "    <tr>\n",
       "      <th>547</th>\n",
       "      <td>cod-ab-abw</td>\n",
       "      <td>abw_admbnda_adm0_2020.zip</td>\n",
       "      <td>[alt_url, cache_last_updated, cache_url, creat...</td>\n",
       "      <td>Aruba administrative level 0 boundary shapefile</td>\n",
       "      <td>SHP</td>\n",
       "      <td>https://data.humdata.org/dataset/5abb5b0c-f3e1...</td>\n",
       "    </tr>\n",
       "    <tr>\n",
       "      <th>957</th>\n",
       "      <td>cod-ab-afg</td>\n",
       "      <td>COD_External/AFG_pcode (FeatureServer)</td>\n",
       "      <td>[cache_last_updated, cache_url, created, datas...</td>\n",
       "      <td>This service is intended as a labelling layer ...</td>\n",
       "      <td>Geoservice</td>\n",
       "      <td>https://codgis.itos.uga.edu/arcgis/rest/servic...</td>\n",
       "    </tr>\n",
       "    <tr>\n",
       "      <th>956</th>\n",
       "      <td>cod-ab-afg</td>\n",
       "      <td>COD_External/AFG_pcode (MapServer)</td>\n",
       "      <td>[cache_last_updated, cache_url, created, datas...</td>\n",
       "      <td>This service is intended as a labelling layer ...</td>\n",
       "      <td>Geoservice</td>\n",
       "      <td>https://codgis.itos.uga.edu/arcgis/rest/servic...</td>\n",
       "    </tr>\n",
       "    <tr>\n",
       "      <th>955</th>\n",
       "      <td>cod-ab-afg</td>\n",
       "      <td>COD_External/AFG_EN (MapServer)</td>\n",
       "      <td>[cache_last_updated, cache_url, created, datas...</td>\n",
       "      <td>AFG_EN - Common Operational Dataset - Administ...</td>\n",
       "      <td>Geoservice</td>\n",
       "      <td>https://codgis.itos.uga.edu/arcgis/rest/servic...</td>\n",
       "    </tr>\n",
       "  </tbody>\n",
       "</table>\n",
       "</div>"
      ],
      "text/plain": [
       "      ocha_name                           resource_name  \\\n",
       "548  cod-ab-abw               abw_admbnda_adm0_2020.emf   \n",
       "547  cod-ab-abw               abw_admbnda_adm0_2020.zip   \n",
       "957  cod-ab-afg  COD_External/AFG_pcode (FeatureServer)   \n",
       "956  cod-ab-afg      COD_External/AFG_pcode (MapServer)   \n",
       "955  cod-ab-afg         COD_External/AFG_EN (MapServer)   \n",
       "\n",
       "                                          resource_obj  \\\n",
       "548  [alt_url, cache_last_updated, cache_url, creat...   \n",
       "547  [alt_url, cache_last_updated, cache_url, creat...   \n",
       "957  [cache_last_updated, cache_url, created, datas...   \n",
       "956  [cache_last_updated, cache_url, created, datas...   \n",
       "955  [cache_last_updated, cache_url, created, datas...   \n",
       "\n",
       "                                           description      format  \\\n",
       "548     Aruba administrative level 0 boundary EMF file         EMF   \n",
       "547    Aruba administrative level 0 boundary shapefile         SHP   \n",
       "957  This service is intended as a labelling layer ...  Geoservice   \n",
       "956  This service is intended as a labelling layer ...  Geoservice   \n",
       "955  AFG_EN - Common Operational Dataset - Administ...  Geoservice   \n",
       "\n",
       "                                                   url  \n",
       "548  https://data.humdata.org/dataset/5abb5b0c-f3e1...  \n",
       "547  https://data.humdata.org/dataset/5abb5b0c-f3e1...  \n",
       "957  https://codgis.itos.uga.edu/arcgis/rest/servic...  \n",
       "956  https://codgis.itos.uga.edu/arcgis/rest/servic...  \n",
       "955  https://codgis.itos.uga.edu/arcgis/rest/servic...  "
      ]
     },
     "execution_count": 8,
     "metadata": {},
     "output_type": "execute_result"
    }
   ],
   "source": [
    "resources_df.head()"
   ]
  },
  {
   "cell_type": "markdown",
   "id": "ad0ef200",
   "metadata": {},
   "source": [
    "We want to filter the data and only get the shapefiles, so we can extract the boundary geometries for every administrative level."
   ]
  },
  {
   "cell_type": "code",
   "execution_count": 9,
   "id": "f9d7de53",
   "metadata": {},
   "outputs": [],
   "source": [
    "resources_shps = resources_df[resources_df.format == 'SHP']"
   ]
  },
  {
   "cell_type": "markdown",
   "id": "42033b92",
   "metadata": {},
   "source": [
    "After filtering for shapefiles, there are three dataset names missing from our subset:"
   ]
  },
  {
   "cell_type": "code",
   "execution_count": 10,
   "id": "0eba920a",
   "metadata": {},
   "outputs": [
    {
     "data": {
      "text/plain": [
       "['cod-ab-afg', 'cod-ab-tjk', 'cod-ab-tur-geoservices']"
      ]
     },
     "execution_count": 10,
     "metadata": {},
     "output_type": "execute_result"
    }
   ],
   "source": [
    "[name for name in ocha_names if name not in resources_shps.ocha_name.unique()]"
   ]
  },
  {
   "cell_type": "markdown",
   "id": "cb949a09",
   "metadata": {},
   "source": [
    "These correspond to Afganistan, Tajikistan, and Turkey (GEOSERVICES). Afganistan and Tajikistan only have Excel files listing their administrative boundaries, but no geometries associated to them.\n",
    "\n",
    "Turkey administrative boundaries are present in the dataset, so we are not interested in the `cod-ab-tur-geoservices`."
   ]
  },
  {
   "cell_type": "code",
   "execution_count": 11,
   "id": "3cadf383",
   "metadata": {},
   "outputs": [
    {
     "data": {
      "text/plain": [
       "True"
      ]
     },
     "execution_count": 11,
     "metadata": {},
     "output_type": "execute_result"
    }
   ],
   "source": [
    "'cod-ab-tur' in resources_shps.ocha_name.unique()"
   ]
  },
  {
   "cell_type": "markdown",
   "id": "722b9b54",
   "metadata": {},
   "source": [
    "There is some data that, while still being shapefiles, they do not correspond to administrative boundaries. Some are capital cities locations, population counts, places of interest.\n",
    "\n",
    "We use the next block of code to visually look for the descriptions, and create a list of things we don't want to download."
   ]
  },
  {
   "cell_type": "raw",
   "id": "2063a1f1",
   "metadata": {},
   "source": [
    "pd.set_option('display.max_colwidth', 255)\n",
    "pd.set_option('display.max_rows', 255)\n",
    "\n",
    "resources_shps"
   ]
  },
  {
   "cell_type": "code",
   "execution_count": 12,
   "id": "7fb023c4",
   "metadata": {},
   "outputs": [],
   "source": [
    "not_interesting_resources = [\n",
    "    'ago_admbndp_admALL_gadm_ine_ocha_itos_20180904.zip',\n",
    "    'ago_admbndl_admALL_gadm_ine_ocha_itos_20180904.zip',\n",
    "    'Populated Places',\n",
    "    'Capitals',\n",
    "    'civ_admbndp_admALL_cntig_ocha_itos_20180706.zip',\n",
    "    'egy_admbndp_admALL_capmas_itos_20170421.zip',\n",
    "    'hnd_pplp_sinit_20160125.zip',\n",
    "    'pplp_15m_esri.zip',\n",
    "    'pak_admbndl_adm_LOC_wfp_itos_20220909.zip',\n",
    "    'SAU_Places.zip',\n",
    "    'Capitals',\n",
    "    'syr_admin_shp_utf8_20230124.zip',\n",
    "    'syr_admbnda_uncs_unocha_20201217.zip',\n",
    "    'syr_admin_shp_utf8_20240711.zip',\n",
    "    'turkey_centeralpoints_1_2.zip',\n",
    "    'vut_admbndp_admALL_spc_itos_20180824.zip'\n",
    "]"
   ]
  },
  {
   "cell_type": "markdown",
   "id": "b7f6cd54",
   "metadata": {},
   "source": [
    "Finally, to download a resource we can do:"
   ]
  },
  {
   "cell_type": "code",
   "execution_count": 13,
   "id": "71378ab0",
   "metadata": {},
   "outputs": [
    {
     "name": "stdout",
     "output_type": "stream",
     "text": [
      "<class 'hdx.data.resource.Resource'>\n"
     ]
    }
   ],
   "source": [
    "res = resources_shps.resource_obj.values[1]\n",
    "\n",
    "print(type(res))"
   ]
  },
  {
   "cell_type": "code",
   "execution_count": 14,
   "id": "d0fc74e7",
   "metadata": {},
   "outputs": [
    {
     "data": {
      "text/plain": [
       "('https://data.humdata.org/dataset/a62b2816-7d2e-4e07-a794-0a1dcb507092/resource/2c36fa8f-8349-4686-8a3b-bff57e6234e2/download/ago_adm_gadm_ine_ocha_20180904_shp.zip',\n",
       " './tests/ago_adm_gadm_ine_ocha_20180904_SHP.zip1.shp')"
      ]
     },
     "execution_count": 14,
     "metadata": {},
     "output_type": "execute_result"
    }
   ],
   "source": [
    "res.download('./tests')"
   ]
  },
  {
   "cell_type": "raw",
   "id": "23bc356e",
   "metadata": {},
   "source": [
    "country = 'afg'\n",
    "\n",
    "[country_ocha] = [ocha for ocha in ochas if ocha['name'] == f'cod-ab-{country}']\n",
    "\n",
    "pprint(country_ocha)\n",
    "\n",
    "country_ocha.get_resources()\n",
    "\n",
    "\n",
    "\n",
    "country_ocha.get_resources()[0].download('./download')"
   ]
  }
 ],
 "metadata": {
  "kernelspec": {
   "display_name": "ocha_tests",
   "language": "python",
   "name": "ocha_tests"
  },
  "language_info": {
   "codemirror_mode": {
    "name": "ipython",
    "version": 3
   },
   "file_extension": ".py",
   "mimetype": "text/x-python",
   "name": "python",
   "nbconvert_exporter": "python",
   "pygments_lexer": "ipython3",
   "version": "3.12.6"
  }
 },
 "nbformat": 4,
 "nbformat_minor": 5
}
